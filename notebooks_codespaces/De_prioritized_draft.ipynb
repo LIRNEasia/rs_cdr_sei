{
  "cells": [
    {
      "attachments": {},
      "cell_type": "markdown",
      "metadata": {},
      "source": [
        "**Importing required libraries**"
      ]
    },
    {
      "attachments": {},
      "cell_type": "markdown",
      "metadata": {},
      "source": [
        "# Bayesian Models"
      ]
    },
    {
      "cell_type": "code",
      "execution_count": 21,
      "metadata": {},
      "outputs": [
        {
          "ename": "AttributeError",
          "evalue": "partially initialized module 'theano' has no attribute 'compile' (most likely due to a circular import)",
          "output_type": "error",
          "traceback": [
            "\u001b[0;31m---------------------------------------------------------------------------\u001b[0m",
            "\u001b[0;31mAttributeError\u001b[0m                            Traceback (most recent call last)",
            "Cell \u001b[0;32mIn[21], line 1\u001b[0m\n\u001b[0;32m----> 1\u001b[0m \u001b[39mimport\u001b[39;00m \u001b[39mpymc3\u001b[39;00m \u001b[39mas\u001b[39;00m \u001b[39mpm\u001b[39;00m\n\u001b[1;32m      3\u001b[0m \u001b[39mwith\u001b[39;00m pm\u001b[39m.\u001b[39mModel() \u001b[39mas\u001b[39;00m model_besag_1:\n\u001b[1;32m      5\u001b[0m     beta_unique_tower_count \u001b[39m=\u001b[39m pm\u001b[39m.\u001b[39mNormal(\u001b[39m'\u001b[39m\u001b[39mbeta_unique_tower_count\u001b[39m\u001b[39m'\u001b[39m, mu\u001b[39m=\u001b[39m\u001b[39m0\u001b[39m, sigma\u001b[39m=\u001b[39m\u001b[39m10\u001b[39m)\n",
            "File \u001b[0;32m/Library/Frameworks/Python.framework/Versions/3.11/lib/python3.11/site-packages/pymc3/__init__.py:23\u001b[0m\n\u001b[1;32m     20\u001b[0m \u001b[39mimport\u001b[39;00m \u001b[39mplatform\u001b[39;00m\n\u001b[1;32m     22\u001b[0m \u001b[39mimport\u001b[39;00m \u001b[39msemver\u001b[39;00m\n\u001b[0;32m---> 23\u001b[0m \u001b[39mimport\u001b[39;00m \u001b[39mtheano\u001b[39;00m\n\u001b[1;32m     25\u001b[0m _log \u001b[39m=\u001b[39m logging\u001b[39m.\u001b[39mgetLogger(\u001b[39m\"\u001b[39m\u001b[39mpymc3\u001b[39m\u001b[39m\"\u001b[39m)\n\u001b[1;32m     27\u001b[0m \u001b[39mif\u001b[39;00m \u001b[39mnot\u001b[39;00m logging\u001b[39m.\u001b[39mroot\u001b[39m.\u001b[39mhandlers:\n",
            "File \u001b[0;32m/Library/Frameworks/Python.framework/Versions/3.11/lib/python3.11/site-packages/theano/__init__.py:124\u001b[0m\n\u001b[1;32m    120\u001b[0m \u001b[39mfrom\u001b[39;00m \u001b[39mtheano\u001b[39;00m\u001b[39m.\u001b[39;00m\u001b[39mmisc\u001b[39;00m\u001b[39m.\u001b[39;00m\u001b[39msafe_asarray\u001b[39;00m \u001b[39mimport\u001b[39;00m _asarray\n\u001b[1;32m    122\u001b[0m \u001b[39mfrom\u001b[39;00m \u001b[39mtheano\u001b[39;00m\u001b[39m.\u001b[39;00m\u001b[39mprinting\u001b[39;00m \u001b[39mimport\u001b[39;00m pprint, pp\n\u001b[0;32m--> 124\u001b[0m \u001b[39mfrom\u001b[39;00m \u001b[39mtheano\u001b[39;00m\u001b[39m.\u001b[39;00m\u001b[39mscan_module\u001b[39;00m \u001b[39mimport\u001b[39;00m (scan, \u001b[39mmap\u001b[39m, reduce, foldl, foldr, clone,\n\u001b[1;32m    125\u001b[0m                                 scan_checkpoints)\n\u001b[1;32m    127\u001b[0m \u001b[39mfrom\u001b[39;00m \u001b[39mtheano\u001b[39;00m\u001b[39m.\u001b[39;00m\u001b[39mupdates\u001b[39;00m \u001b[39mimport\u001b[39;00m OrderedUpdates\n\u001b[1;32m    129\u001b[0m \u001b[39m# scan_module import above initializes tensor and scalar making these imports\u001b[39;00m\n\u001b[1;32m    130\u001b[0m \u001b[39m# redundant\u001b[39;00m\n\u001b[1;32m    131\u001b[0m \n\u001b[0;32m   (...)\u001b[0m\n\u001b[1;32m    136\u001b[0m \n\u001b[1;32m    137\u001b[0m \u001b[39m# import sparse\u001b[39;00m\n",
            "File \u001b[0;32m/Library/Frameworks/Python.framework/Versions/3.11/lib/python3.11/site-packages/theano/scan_module/__init__.py:41\u001b[0m\n\u001b[1;32m     38\u001b[0m __copyright__ \u001b[39m=\u001b[39m \u001b[39m\"\u001b[39m\u001b[39m(c) 2010, Universite de Montreal\u001b[39m\u001b[39m\"\u001b[39m\n\u001b[1;32m     39\u001b[0m __contact__ \u001b[39m=\u001b[39m \u001b[39m\"\u001b[39m\u001b[39mRazvan Pascanu <r.pascanu@gmail>\u001b[39m\u001b[39m\"\u001b[39m\n\u001b[0;32m---> 41\u001b[0m \u001b[39mfrom\u001b[39;00m \u001b[39mtheano\u001b[39;00m\u001b[39m.\u001b[39;00m\u001b[39mscan_module\u001b[39;00m \u001b[39mimport\u001b[39;00m scan_opt\n\u001b[1;32m     42\u001b[0m \u001b[39mfrom\u001b[39;00m \u001b[39mtheano\u001b[39;00m\u001b[39m.\u001b[39;00m\u001b[39mscan_module\u001b[39;00m\u001b[39m.\u001b[39;00m\u001b[39mscan\u001b[39;00m \u001b[39mimport\u001b[39;00m scan\n\u001b[1;32m     43\u001b[0m \u001b[39mfrom\u001b[39;00m \u001b[39mtheano\u001b[39;00m\u001b[39m.\u001b[39;00m\u001b[39mscan_module\u001b[39;00m\u001b[39m.\u001b[39;00m\u001b[39mscan_checkpoints\u001b[39;00m \u001b[39mimport\u001b[39;00m scan_checkpoints\n",
            "File \u001b[0;32m/Library/Frameworks/Python.framework/Versions/3.11/lib/python3.11/site-packages/theano/scan_module/scan_opt.py:60\u001b[0m\n\u001b[1;32m     57\u001b[0m \u001b[39mimport\u001b[39;00m \u001b[39mnumpy\u001b[39;00m \u001b[39mas\u001b[39;00m \u001b[39mnp\u001b[39;00m\n\u001b[1;32m     59\u001b[0m \u001b[39mimport\u001b[39;00m \u001b[39mtheano\u001b[39;00m\n\u001b[0;32m---> 60\u001b[0m \u001b[39mfrom\u001b[39;00m \u001b[39mtheano\u001b[39;00m \u001b[39mimport\u001b[39;00m tensor, scalar\n\u001b[1;32m     61\u001b[0m \u001b[39mfrom\u001b[39;00m \u001b[39mtheano\u001b[39;00m\u001b[39m.\u001b[39;00m\u001b[39mtensor\u001b[39;00m \u001b[39mimport\u001b[39;00m opt, get_scalar_constant_value, Alloc, AllocEmpty\n\u001b[1;32m     62\u001b[0m \u001b[39mfrom\u001b[39;00m \u001b[39mtheano\u001b[39;00m \u001b[39mimport\u001b[39;00m gof\n",
            "File \u001b[0;32m/Library/Frameworks/Python.framework/Versions/3.11/lib/python3.11/site-packages/theano/tensor/__init__.py:8\u001b[0m\n\u001b[1;32m      4\u001b[0m __docformat__ \u001b[39m=\u001b[39m \u001b[39m\"\u001b[39m\u001b[39mrestructuredtext en\u001b[39m\u001b[39m\"\u001b[39m\n\u001b[1;32m      6\u001b[0m \u001b[39mimport\u001b[39;00m \u001b[39mwarnings\u001b[39;00m\n\u001b[0;32m----> 8\u001b[0m \u001b[39mfrom\u001b[39;00m \u001b[39mtheano\u001b[39;00m\u001b[39m.\u001b[39;00m\u001b[39mtensor\u001b[39;00m\u001b[39m.\u001b[39;00m\u001b[39mbasic\u001b[39;00m \u001b[39mimport\u001b[39;00m \u001b[39m*\u001b[39m\n\u001b[1;32m      9\u001b[0m \u001b[39mfrom\u001b[39;00m \u001b[39mtheano\u001b[39;00m\u001b[39m.\u001b[39;00m\u001b[39mtensor\u001b[39;00m\u001b[39m.\u001b[39;00m\u001b[39msubtensor\u001b[39;00m \u001b[39mimport\u001b[39;00m \u001b[39m*\u001b[39m\n\u001b[1;32m     10\u001b[0m \u001b[39mfrom\u001b[39;00m \u001b[39mtheano\u001b[39;00m\u001b[39m.\u001b[39;00m\u001b[39mtensor\u001b[39;00m\u001b[39m.\u001b[39;00m\u001b[39mtype_other\u001b[39;00m \u001b[39mimport\u001b[39;00m \u001b[39m*\u001b[39m\n",
            "File \u001b[0;32m/Library/Frameworks/Python.framework/Versions/3.11/lib/python3.11/site-packages/theano/tensor/basic.py:20\u001b[0m\n\u001b[1;32m     17\u001b[0m \u001b[39mfrom\u001b[39;00m \u001b[39mtheano\u001b[39;00m\u001b[39m.\u001b[39;00m\u001b[39mgof\u001b[39;00m \u001b[39mimport\u001b[39;00m Apply, Constant, Op, Variable, ParamsType\n\u001b[1;32m     18\u001b[0m \u001b[39mfrom\u001b[39;00m \u001b[39mtheano\u001b[39;00m\u001b[39m.\u001b[39;00m\u001b[39mgof\u001b[39;00m\u001b[39m.\u001b[39;00m\u001b[39mtype\u001b[39;00m \u001b[39mimport\u001b[39;00m Generic\n\u001b[0;32m---> 20\u001b[0m \u001b[39mfrom\u001b[39;00m \u001b[39mtheano\u001b[39;00m\u001b[39m.\u001b[39;00m\u001b[39mscalar\u001b[39;00m \u001b[39mimport\u001b[39;00m int32 \u001b[39mas\u001b[39;00m int32_t\n\u001b[1;32m     21\u001b[0m \u001b[39mfrom\u001b[39;00m \u001b[39mtheano\u001b[39;00m\u001b[39m.\u001b[39;00m\u001b[39mtensor\u001b[39;00m \u001b[39mimport\u001b[39;00m elemwise\n\u001b[1;32m     22\u001b[0m \u001b[39mfrom\u001b[39;00m \u001b[39mtheano\u001b[39;00m\u001b[39m.\u001b[39;00m\u001b[39mtensor\u001b[39;00m\u001b[39m.\u001b[39;00m\u001b[39mvar\u001b[39;00m \u001b[39mimport\u001b[39;00m (AsTensorError, TensorVariable,\n\u001b[1;32m     23\u001b[0m                                TensorConstant, TensorConstantSignature,\n\u001b[1;32m     24\u001b[0m                                _tensor_py_operators)\n",
            "File \u001b[0;32m/Library/Frameworks/Python.framework/Versions/3.11/lib/python3.11/site-packages/theano/scalar/__init__.py:3\u001b[0m\n\u001b[1;32m      1\u001b[0m \u001b[39mfrom\u001b[39;00m \u001b[39m__future__\u001b[39;00m \u001b[39mimport\u001b[39;00m absolute_import, print_function, division\n\u001b[0;32m----> 3\u001b[0m \u001b[39mfrom\u001b[39;00m \u001b[39m.\u001b[39;00m\u001b[39mbasic\u001b[39;00m \u001b[39mimport\u001b[39;00m \u001b[39m*\u001b[39m\n\u001b[1;32m      5\u001b[0m \u001b[39mfrom\u001b[39;00m \u001b[39m.\u001b[39;00m\u001b[39mbasic_scipy\u001b[39;00m \u001b[39mimport\u001b[39;00m \u001b[39m*\u001b[39m\n",
            "File \u001b[0;32m/Library/Frameworks/Python.framework/Versions/3.11/lib/python3.11/site-packages/theano/scalar/basic.py:656\u001b[0m\n\u001b[1;32m    653\u001b[0m         \u001b[39mreturn\u001b[39;00m shape_info\n\u001b[1;32m    655\u001b[0m \u001b[39m# Register C code for ViewOp on Scalars.\u001b[39;00m\n\u001b[0;32m--> 656\u001b[0m theano\u001b[39m.\u001b[39;49mcompile\u001b[39m.\u001b[39mregister_view_op_c_code(\n\u001b[1;32m    657\u001b[0m     Scalar,\n\u001b[1;32m    658\u001b[0m \u001b[39m    \u001b[39m\u001b[39m\"\"\"\u001b[39;00m\n\u001b[1;32m    659\u001b[0m \u001b[39m    %(oname)s = %(iname)s;\u001b[39;00m\n\u001b[1;32m    660\u001b[0m \u001b[39m    \"\"\"\u001b[39;00m,\n\u001b[1;32m    661\u001b[0m     \u001b[39m1\u001b[39m)\n\u001b[1;32m    664\u001b[0m \u001b[39mbool\u001b[39m \u001b[39m=\u001b[39m get_scalar_type(\u001b[39m'\u001b[39m\u001b[39mbool\u001b[39m\u001b[39m'\u001b[39m)\n\u001b[1;32m    665\u001b[0m int8 \u001b[39m=\u001b[39m get_scalar_type(\u001b[39m'\u001b[39m\u001b[39mint8\u001b[39m\u001b[39m'\u001b[39m)\n",
            "\u001b[0;31mAttributeError\u001b[0m: partially initialized module 'theano' has no attribute 'compile' (most likely due to a circular import)"
          ]
        }
      ],
      "source": [
        "import pymc3 as pm\n",
        "\n",
        "with pm.Model() as model_besag_1:\n",
        "    \n",
        "    beta_unique_tower_count = pm.Normal('beta_unique_tower_count', mu=0, sigma=10)\n",
        "    beta_pregnancies_log = pm.Normal('beta_pregnancies_log', mu=0, sigma=10)\n",
        "    beta_social_entropy = pm.Normal('beta_social_entropy', mu=0, sigma=10)\n",
        "    tau = pm.Gamma('tau', alpha=0.5, beta=0.5)  # precision parameter for the Besag model\n",
        "    \n",
        "\n",
        "    eta = pm.Normal('eta', mu=0, sigma=1, shape=len(gdf)) \n",
        "    \n",
        "    mu = (\n",
        "        beta_unique_tower_count * gdf['unique_tower_count'] +\n",
        "        beta_pregnancies_log * gdf['pregnancies_log'] +\n",
        "        beta_social_entropy * gdf['social_entropy'] +\n",
        "        eta +\n",
        "        neighbour_all  #\n",
        "    )\n",
        "    #likelihood\n",
        "    pc_1_na = pm.Poisson('pc_1', mu=np.exp(mu), observed=gdf['pc_1'])\n",
        "\n",
        "    # Sample posterior\n",
        "    trace = pm.sample(1000, tune=1000)\n",
        "\n",
        "print('')"
      ]
    },
    {
      "cell_type": "code",
      "execution_count": null,
      "metadata": {},
      "outputs": [],
      "source": [
        "#validating model againset DSD level poverty headcount\n",
        "\n",
        "dsd_poverty = pd.read_excel(\"/Users/chanukaalgama/Desktop/DAP PROJECTS/RS + CDR Poverty Mapping/poverty-mapping-liao-220902/dsd-poverty.xlsx\")\n",
        "\n",
        "census = pd.read_csv(\"/Users/chanukaalgama/Desktop/DAP PROJECTS/RS + CDR Poverty Mapping/poverty-mapping-liao-220902/data/census_features.csv\")\n",
        "census = census.rename(columns={\"gnd_id\": \"gnd_id\", \"age_total\": \"pop\"})\n",
        "\n",
        "data_full_with_id = merged[[\"gnd_id\", \"pc_1\"]]\n",
        "\n",
        "fit_besag_full = pd.DataFrame({\"fit\": model_besag_1.summary[\"mean\"]})\n",
        "fit_besag_full = pd.concat([fit_besag_full, data_full_with_id], axis=1)\n",
        "\n",
        "census_merged = pd.merge(fit_besag_full, census, on=\"gnd_id\")\n",
        "\n",
        "\n",
        "gnd2dsd_df = data_shapefile.drop(columns=[\"geometry\"]).rename(columns={\"code_7\": \"gnd_id\"})\n",
        "gnd2dsd_df = pd.merge(gnd2dsd_df, census_merged, on=\"gnd_id\")\n",
        "\n",
        "gnd2dsd_gr = gnd2dsd_df.groupby(\"dsd_name\").apply(lambda x: np.average(x[\"fit\"], weights=x[\"pop\"])).reset_index(name=\"fit_wted\")\n",
        "\n",
        "gnd2dsd_gr = pd.merge(gnd2dsd_gr, dsd_poverty, on=\"dsd_name\", how=\"outer\")\n",
        "\n",
        "\n",
        "final_df = pd.read_csv(\"gnd2dsd-gr-cln-final.csv\")\n",
        "final_df[\"fit_wted_std\"] = (final_df[\"fit_wted\"] - final_df[\"fit_wted\"].mean()) / final_df[\"fit_wted\"].std()\n",
        "final_df[\"hci_std\"] = (final_df[\"headcount_index\"].mean() - final_df[\"headcount_index\"]) / final_df[\"headcount_index\"].std()\n",
        "final_df[\"res\"] = final_df[\"fit_wted_std\"] - final_df[\"hci_std\"]\n",
        "\n",
        "RRes_dsd = np.sum(final_df[\"res\"].dropna() ** 2)\n",
        "RRtot_dsd = np.sum((final_df[\"hci_std\"] - final_df[\"fit_wted_std\"].mean()) ** 2)\n",
        "\n",
        "pseudo_r2_dsd = 1 - RRes_dsd / RRtot_dsd\n",
        "\n",
        "# Spearman correlation\n",
        "spearman_corr = spearmanr(final_df[\"hci_std\"], final_df[\"fit_wted_std\"])\n",
        "\n",
        " \n",
        "lm_hci_std = LinearRegression().fit(final_df[[\"fit_wted_std\"]], final_df[\"hci_std\"])\n",
        "lm_headcount_index = LinearRegression().fit(final_df[[\"fit_wted\"]], final_df[\"headcount_index\"])\n",
        "\n",
        "\n",
        "print(\"Pseudo R-squared (DSD):\", pseudo_r2_dsd)\n",
        "print(\"Spearman correlation:\", spearman_corr.correlation)\n",
        "print(\"Spearman correlation p-value:\", spearman_corr.pvalue)\n",
        "print(\"Linear regression (hci_std ~ fit_wted_std) coefficients:\", lm_hci_std.coef_)\n",
        "print(\"Linear regression (headcount_index ~ fit_wted) coefficients:\", lm_headcount_index.coef_)\n"
      ]
    }
  ],
  "metadata": {
    "accelerator": "TPU",
    "colab": {
      "provenance": []
    },
    "kernelspec": {
      "display_name": "Python 3",
      "name": "python3"
    },
    "language_info": {
      "codemirror_mode": {
        "name": "ipython",
        "version": 3
      },
      "file_extension": ".py",
      "mimetype": "text/x-python",
      "name": "python",
      "nbconvert_exporter": "python",
      "pygments_lexer": "ipython3",
      "version": "3.11.3"
    }
  },
  "nbformat": 4,
  "nbformat_minor": 0
}
