{
  "cells": [
    {
      "attachments": {},
      "cell_type": "markdown",
      "metadata": {},
      "source": [
        "**Importing required libraries**\n",
        "\n",
        "This code is to visualize the bayesian results, assess the performance of the results against DSD level poverty headcount index\n",
        "\n",
        "requirements - csv file of bayesian results with fields = gnd_id, predicted_values"
      ]
    },
    {
      "cell_type": "code",
      "execution_count": 2,
      "metadata": {},
      "outputs": [],
      "source": [
        "import numpy as np\n",
        "import pandas as pd\n",
        "import geopandas as gpd\n",
        "import matplotlib.pyplot as plt"
      ]
    },
    {
      "cell_type": "code",
      "execution_count": 31,
      "metadata": {},
      "outputs": [],
      "source": [
        "# Read DSD-level poverty data\n",
        "dsd_poverty = pd.read_csv(\"/Users/chanukaalgama/Library/CloudStorage/OneDrive-LIRNEasia/DAP PROJECTS/RS + CDR Poverty Mapping/Data/dsd-poverty.csv\")\n",
        "\n",
        "# Read census features (no need)\n",
        "census = pd.read_csv(\"/Users/chanukaalgama/Library/CloudStorage/OneDrive-LIRNEasia/DAP PROJECTS/RS + CDR Poverty Mapping/Data/census_features.csv\", usecols=[\"gnd_id\", \"age_total\"])\n",
        "census = census.rename(columns={\"age_total\": \"pop\"})\n",
        "\n",
        "#load the bayesian results csv to a vaiable called data_b\n",
        "\n",
        "#data_b2 = data_b[['gnd_id', 'pc_1', 'predicted_values']].copy()\n",
        "\n",
        "# Merge fitted values with census data\n",
        "#merged2 = data_b2.merge(census, left_on=data_b2.gnd_id, right_on='gnd_id', how='inner')\n",
        "\n",
        "# Merge with data_shapefile\n",
        "#gnd2dsd_df = data_shapefile.drop(columns=\"geometry\")\n",
        "#merged2 = merged2.merge(gnd2dsd_df, left_on=merged.gnd_id, right_on='code_7', how='inner')\n",
        "print('ß')"
      ]
    },
    {
      "cell_type": "code",
      "execution_count": 29,
      "metadata": {},
      "outputs": [],
      "source": [
        "#taking the gnd level dataset to the dsd level\n",
        "\n",
        "#dsd_grouped = merged2.groupby(\"dsd_name\").apply(lambda x: (x[\"predicted_values\"] * x[\"pop\"]).sum() / x[\"pop\"].sum()).reset_index(name=\"fit_wted\")\n",
        "\n",
        "\n",
        "#then you need to save dsd_grouped as a csv and get the dsd_name to correct format"
      ]
    },
    {
      "cell_type": "code",
      "execution_count": null,
      "metadata": {},
      "outputs": [],
      "source": [
        "# loading the file with the correct dsd name format\n",
        "dsd_grouped = pd.read_csv(\"/Users/chanukaalgama/Library/CloudStorage/OneDrive-LIRNEasia/DAP PROJECTS/RS + CDR Poverty Mapping/Data/dsd_fit_weight_final_final.csv\")\n",
        "\n",
        "# Merge with DSD-level poverty data (dont need to do)\n",
        "#dsd_final = dsd_grouped.merge(dsd_poverty, on='dsd_name', how='inner')"
      ]
    },
    {
      "cell_type": "code",
      "execution_count": 36,
      "metadata": {},
      "outputs": [],
      "source": [
        "predicted_list = dsd_grouped.sort_values(by=\"fit_wted\", ascending=False)\n",
        "predicted_list = predicted_list.head(100).copy() #change the number 100 accordingly\n",
        "predicted_list = predicted_list.dsd_name.to_list()\n",
        "\n",
        "\n",
        "\n",
        "hc_list = dsd_poverty.sort_values(by=\"headcount_index\", ascending=True)\n",
        "hc_list = hc_list.head(100).copy() #change the number 100 accordingly\n",
        "hc_list = hc_list.dsd_name.to_list()"
      ]
    },
    {
      "cell_type": "code",
      "execution_count": 37,
      "metadata": {},
      "outputs": [
        {
          "name": "stdout",
          "output_type": "stream",
          "text": [
            "The percentage of b in a is: 63.0%\n"
          ]
        }
      ],
      "source": [
        "series_a = pd.Series(predicted_list)\n",
        "series_b = pd.Series(hc_list)\n",
        "\n",
        "# Calculate the percentage of predicted in ground truth \n",
        "percentage = (series_b.isin(predicted_list).sum() / len(series_b)) * 100\n",
        "\n",
        "print(f\"The percentage of b in a is: {percentage}%\")"
      ]
    },
    {
      "attachments": {},
      "cell_type": "markdown",
      "metadata": {},
      "source": [
        "# GND LEVEL"
      ]
    },
    {
      "cell_type": "code",
      "execution_count": 42,
      "metadata": {},
      "outputs": [],
      "source": [
        "bayesian = pd.read_csv(\"/Users/chanukaalgama/Library/CloudStorage/OneDrive-LIRNEasia/DAP PROJECTS/RS + CDR Poverty Mapping/Data/bayesian_results_final.csv\")\n",
        "\n",
        "bayesian_list = bayesian.sort_values(by=\"pc_1\", ascending=True)\n",
        "bayesian1 = bayesian_list.head(3000).copy()  #change accordingly\n",
        "ground_list = bayesian1.gnd_id.to_list()\n",
        "\n",
        "\n",
        "pred_list = bayesian.sort_values(by=\"predicted_values\", ascending=True)\n",
        "pred = pred_list.head(3000).copy()\n",
        "pree_list = pred.gnd_id.to_list()\n",
        "\n"
      ]
    },
    {
      "cell_type": "code",
      "execution_count": 44,
      "metadata": {},
      "outputs": [
        {
          "name": "stdout",
          "output_type": "stream",
          "text": [
            "Percentage of gnds: 65.16666666666666 %\n"
          ]
        }
      ],
      "source": [
        "common_elements = len(set(pree_list) & set(ground_list))\n",
        "\n",
        "percentage = (common_elements / len(ground_list)) * 100\n",
        "\n",
        "print(\"Percentage of gnds:\", percentage, \"%\")\n"
      ]
    },
    {
      "attachments": {},
      "cell_type": "markdown",
      "metadata": {},
      "source": [
        "Predicting poorest 25  DSDs: 76%\n",
        "Predicting poorest 50  DSDs: 68%\n",
        "Predicting poorest 100 DSDs: 63%\n",
        "\n",
        "Predicting poorest 100  gnds: 26%\n",
        "Predicting poorest 500  gnds: 49.6%\n",
        "Predicting poorest 1000 gnds: 55%\n",
        "Predicting poorest 3000 gnds: 65%"
      ]
    },
    {
      "cell_type": "code",
      "execution_count": 3,
      "metadata": {},
      "outputs": [],
      "source": [
        "from sklearn.metrics import mean_squared_error, mean_absolute_error, r2_score\n",
        "data = pd.read_csv('/Users/chanukaalgama/Library/CloudStorage/OneDrive-LIRNEasia/DAP PROJECTS/RS + CDR Poverty Mapping/Data/processed/bayesian_results_final.csv')"
      ]
    },
    {
      "cell_type": "code",
      "execution_count": 5,
      "metadata": {},
      "outputs": [
        {
          "name": "stdout",
          "output_type": "stream",
          "text": [
            "Mean Squared Error: 3.248529668895013\n",
            "Root Mean Squared Error: 1.8023677951225752\n",
            "Mean Absolute Error: 1.3653133654644327\n",
            "R-squared Value: 0.701115794011358\n"
          ]
        }
      ],
      "source": [
        "y_true = data['pc_1']\n",
        "y_pred = data['predicted_values']\n",
        "\n",
        "mse = mean_squared_error(y_true, y_pred)\n",
        "rmse = np.sqrt(mse)\n",
        "mae = mean_absolute_error(y_true, y_pred)\n",
        "r2 = r2_score(y_true, y_pred)\n",
        "\n",
        "print('Mean Squared Error:', mse)\n",
        "print('Root Mean Squared Error:', rmse)\n",
        "print('Mean Absolute Error:', mae)\n",
        "print('R-squared Value:', r2)"
      ]
    }
  ],
  "metadata": {
    "accelerator": "TPU",
    "colab": {
      "provenance": []
    },
    "kernelspec": {
      "display_name": "Python 3",
      "name": "python3"
    },
    "language_info": {
      "codemirror_mode": {
        "name": "ipython",
        "version": 3
      },
      "file_extension": ".py",
      "mimetype": "text/x-python",
      "name": "python",
      "nbconvert_exporter": "python",
      "pygments_lexer": "ipython3",
      "version": "3.11.5"
    }
  },
  "nbformat": 4,
  "nbformat_minor": 0
}
